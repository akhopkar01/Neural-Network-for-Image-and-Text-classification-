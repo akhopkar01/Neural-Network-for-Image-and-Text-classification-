{
  "nbformat": 4,
  "nbformat_minor": 0,
  "metadata": {
    "colab": {
      "name": "hw3.ipynb",
      "provenance": [],
      "collapsed_sections": []
    },
    "kernelspec": {
      "name": "python3",
      "display_name": "Python 3"
    }
  },
  "cells": [
    {
      "cell_type": "markdown",
      "metadata": {
        "id": "nzHRw4CCJjJR",
        "colab_type": "text"
      },
      "source": [
        "\n",
        "\n",
        "---\n",
        "\n",
        "\n",
        "**Assignment 3** \\\\\n",
        "\n",
        "\\\\\n",
        "\n",
        "This assignment is done using PyTorch framework.\n",
        "See the steps below. Load the data files properly. \\\\\n",
        "\n",
        "*Name: Aditya Khopkar* \\\\\n",
        "*UID: 116911627*\n",
        "\n",
        "\n",
        "---\n",
        "\n",
        "\n",
        "\n",
        "---\n",
        "\n"
      ]
    },
    {
      "cell_type": "markdown",
      "metadata": {
        "id": "Vb5fXNCioF_8",
        "colab_type": "text"
      },
      "source": [
        "**Step 1 : Import all the necessary Libraries**"
      ]
    },
    {
      "cell_type": "code",
      "metadata": {
        "id": "sVb0i9HqRKQ7",
        "colab_type": "code",
        "colab": {}
      },
      "source": [
        "import torch\n",
        "import torchvision\n",
        "import numpy as np\n",
        "import torch.nn as nn\n",
        "import torch.nn.functional as F\n",
        "import h5py\n",
        "import matplotlib.pyplot as plt\n",
        "import scipy\n",
        "from PIL import Image\n",
        "from scipy import ndimage\n",
        "import re\n",
        "from sklearn.feature_extraction.text import CountVectorizer\n",
        "from sklearn.metrics import accuracy_score\n",
        "from sklearn.model_selection import train_test_split"
      ],
      "execution_count": 0,
      "outputs": []
    },
    {
      "cell_type": "markdown",
      "metadata": {
        "id": "Zu-_INpFJr9A",
        "colab_type": "text"
      },
      "source": [
        "**Step 2. Create a Neural Network class** \\\\\n",
        "A feed forward network in pytorch, autograd feature ON\n",
        "LINEAR -> RELU -> LINEAR -> SIGMOID -> OUTPUT"
      ]
    },
    {
      "cell_type": "code",
      "metadata": {
        "id": "om_eFTjtRMHM",
        "colab_type": "code",
        "outputId": "6d5b8a53-8a5e-4b40-b9ab-c275eea0a773",
        "colab": {
          "base_uri": "https://localhost:8080/",
          "height": 229
        }
      },
      "source": [
        "'''\n",
        "Create a neural network class -> Feed forward network\n",
        "LINEAR -> RELU -> LINEAR -> SIGMOID -> OUTPUT\n",
        "'''\n",
        "\n",
        "\n",
        "class NeuralNet(nn.Module):\n",
        "  def __init__(self,n_x,n_h,n_y):\n",
        "    super(NeuralNet,self).__init__()\n",
        "    self.fc1 = nn.Linear(n_x, n_h) \n",
        "    self.fc2 = nn.Linear(n_h, n_y) \n",
        "  \n",
        "  def forward(self,x):\n",
        "    out = self.fc1(x)\n",
        "    out = torch.relu(out)\n",
        "    out = self.fc2(out)\n",
        "    out = torch.sigmoid(out)\n",
        "    return out"
      ],
      "execution_count": 0,
      "outputs": [
        {
          "output_type": "error",
          "ename": "NameError",
          "evalue": "ignored",
          "traceback": [
            "\u001b[0;31m---------------------------------------------------------------------------\u001b[0m",
            "\u001b[0;31mNameError\u001b[0m                                 Traceback (most recent call last)",
            "\u001b[0;32m<ipython-input-436-773508ebc9b8>\u001b[0m in \u001b[0;36m<module>\u001b[0;34m()\u001b[0m\n\u001b[1;32m      3\u001b[0m \u001b[0mLINEAR\u001b[0m \u001b[0;34m->\u001b[0m \u001b[0mRELU\u001b[0m \u001b[0;34m->\u001b[0m \u001b[0mLINEAR\u001b[0m \u001b[0;34m->\u001b[0m \u001b[0mSIGMOID\u001b[0m \u001b[0;34m->\u001b[0m \u001b[0mOUTPUT\u001b[0m\u001b[0;34m\u001b[0m\u001b[0;34m\u001b[0m\u001b[0m\n\u001b[1;32m      4\u001b[0m '''\n\u001b[0;32m----> 5\u001b[0;31m \u001b[0mseed\u001b[0m\u001b[0;34m(\u001b[0m\u001b[0;36m1\u001b[0m\u001b[0;34m)\u001b[0m\u001b[0;34m\u001b[0m\u001b[0;34m\u001b[0m\u001b[0m\n\u001b[0m\u001b[1;32m      6\u001b[0m \u001b[0;34m\u001b[0m\u001b[0m\n\u001b[1;32m      7\u001b[0m \u001b[0;32mclass\u001b[0m \u001b[0mNeuralNet\u001b[0m\u001b[0;34m(\u001b[0m\u001b[0mnn\u001b[0m\u001b[0;34m.\u001b[0m\u001b[0mModule\u001b[0m\u001b[0;34m)\u001b[0m\u001b[0;34m:\u001b[0m\u001b[0;34m\u001b[0m\u001b[0;34m\u001b[0m\u001b[0m\n",
            "\u001b[0;31mNameError\u001b[0m: name 'seed' is not defined"
          ]
        }
      ]
    },
    {
      "cell_type": "markdown",
      "metadata": {
        "id": "7mSZ_-O3KGZa",
        "colab_type": "text"
      },
      "source": [
        "**Step 3: Load Image Dataset**"
      ]
    },
    {
      "cell_type": "code",
      "metadata": {
        "id": "jUK8XUgPqPC0",
        "colab_type": "code",
        "colab": {}
      },
      "source": [
        "def load_data(train_file, test_file):\n",
        "    # Load the training data\n",
        "    train_dataset = h5py.File(train_file,'r')\n",
        "    \n",
        "    # Separate features(x) and labels(y) for training set\n",
        "    train_set_x_orig = np.array(train_dataset[\"train_set_x\"])\n",
        "    train_set_y_orig = np.array(train_dataset[\"train_set_y\"])\n",
        "\n",
        "    # Load the test data\n",
        "    test_dataset = h5py.File(test_file,'r')\n",
        "    \n",
        "    # Separate features(x) and labels(y) for training set\n",
        "    test_set_x_orig = np.array(test_dataset[\"test_set_x\"])\n",
        "    test_set_y_orig = np.array(test_dataset[\"test_set_y\"])\n",
        "\n",
        "    classes = np.array(test_dataset[\"list_classes\"][:]) # the list of classes\n",
        "    train_set_y_orig = train_set_y_orig.reshape((1, train_set_y_orig.shape[0]))\n",
        "    test_set_y_orig = test_set_y_orig.reshape((1, test_set_y_orig.shape[0]))\n",
        "    \n",
        "    return train_set_x_orig, train_set_y_orig, test_set_x_orig, test_set_y_orig, classes"
      ],
      "execution_count": 0,
      "outputs": []
    },
    {
      "cell_type": "code",
      "metadata": {
        "id": "1roY_rqbt7YH",
        "colab_type": "code",
        "outputId": "50d231f6-a847-481e-d39f-c6200d572e68",
        "colab": {
          "base_uri": "https://localhost:8080/",
          "height": 50
        }
      },
      "source": [
        "%matplotlib inline\n",
        "plt.rcParams['figure.figsize'] = (5.0, 4.0) # set default size of plots\n",
        "plt.rcParams['image.interpolation'] = 'nearest'\n",
        "plt.rcParams['image.cmap'] = 'gray'\n",
        "\n",
        "%load_ext autoreload\n",
        "%autoreload 2\n",
        "\n",
        "np.random.seed(1)"
      ],
      "execution_count": 0,
      "outputs": [
        {
          "output_type": "stream",
          "text": [
            "The autoreload extension is already loaded. To reload it, use:\n",
            "  %reload_ext autoreload\n"
          ],
          "name": "stdout"
        }
      ]
    },
    {
      "cell_type": "code",
      "metadata": {
        "id": "KvPT5Hypr-Gq",
        "colab_type": "code",
        "colab": {}
      },
      "source": [
        "train_file=\"train_catvnoncat.h5\"\n",
        "test_file=\"test_catvnoncat.h5\"\n",
        "train_x_orig, train_y, test_x_orig, test_y, classes = load_data(train_file, test_file)\n"
      ],
      "execution_count": 0,
      "outputs": []
    },
    {
      "cell_type": "code",
      "metadata": {
        "id": "cw7ANByIsI0E",
        "colab_type": "code",
        "outputId": "2b0d0364-728d-4029-8862-1711b883b599",
        "colab": {
          "base_uri": "https://localhost:8080/",
          "height": 285
        }
      },
      "source": [
        "# Example of a picture\n",
        "index = 10\n",
        "plt.imshow(train_x_orig[index])\n",
        "print (\"y = \" + str(train_y[0,index]) + \". It's a \" + classes[train_y[0,index]].decode(\"utf-8\") +  \" picture.\")"
      ],
      "execution_count": 0,
      "outputs": [
        {
          "output_type": "stream",
          "text": [
            "y = 0. It's a non-cat picture.\n"
          ],
          "name": "stdout"
        },
        {
          "output_type": "display_data",
          "data": {
            "image/png": "[encoded data removed]",
            "text/plain": [
              "<Figure size 360x288 with 1 Axes>"
            ]
          },
          "metadata": {
            "tags": []
          }
        }
      ]
    },
    {
      "cell_type": "code",
      "metadata": {
        "id": "EerKrycisK7h",
        "colab_type": "code",
        "outputId": "5993beac-9e4f-4867-d20b-2f781211011f",
        "colab": {
          "base_uri": "https://localhost:8080/",
          "height": 134
        }
      },
      "source": [
        "# Explore your dataset \n",
        "m_train = train_x_orig.shape[0]\n",
        "num_px = train_x_orig.shape[1]\n",
        "m_test = test_x_orig.shape[0]\n",
        "\n",
        "print (\"Number of training examples: \" + str(m_train))\n",
        "print (\"Number of testing examples: \" + str(m_test))\n",
        "print (\"Each image is of size: (\" + str(num_px) + \", \" + str(num_px) + \", 3)\")\n",
        "print (\"train_x_orig shape: \" + str(train_x_orig.shape))\n",
        "print (\"train_y shape: \" + str(train_y.shape))\n",
        "print (\"test_x_orig shape: \" + str(test_x_orig.shape))\n",
        "print (\"test_y shape: \" + str(test_y.shape))"
      ],
      "execution_count": 0,
      "outputs": [
        {
          "output_type": "stream",
          "text": [
            "Number of training examples: 209\n",
            "Number of testing examples: 50\n",
            "Each image is of size: (64, 64, 3)\n",
            "train_x_orig shape: (209, 64, 64, 3)\n",
            "train_y shape: (1, 209)\n",
            "test_x_orig shape: (50, 64, 64, 3)\n",
            "test_y shape: (1, 50)\n"
          ],
          "name": "stdout"
        }
      ]
    },
    {
      "cell_type": "markdown",
      "metadata": {
        "id": "Y1EGarZUKURS",
        "colab_type": "text"
      },
      "source": [
        "**Step 4: Vectorize the image data**"
      ]
    },
    {
      "cell_type": "code",
      "metadata": {
        "id": "l1hguq4ksOOt",
        "colab_type": "code",
        "outputId": "f229acf2-f8ba-4d57-b0a3-888da1327b18",
        "colab": {
          "base_uri": "https://localhost:8080/",
          "height": 50
        }
      },
      "source": [
        "# Reshape the training and test examples \n",
        "train_x_flatten = train_x_orig.reshape(train_x_orig.shape[0], -1).T   # The \"-1\" makes reshape flatten the remaining dimensions\n",
        "test_x_flatten = test_x_orig.reshape(test_x_orig.shape[0], -1).T\n",
        "\n",
        "# Standardize data to have feature values between 0 and 1.\n",
        "train_x = train_x_flatten/255.\n",
        "test_x = test_x_flatten/255.\n",
        "\n",
        "print (\"train_x's shape: \" + str(train_x.shape))\n",
        "print (\"test_x's shape: \" + str(test_x.shape))\n",
        "\n"
      ],
      "execution_count": 0,
      "outputs": [
        {
          "output_type": "stream",
          "text": [
            "train_x's shape: (12288, 209)\n",
            "test_x's shape: (12288, 50)\n"
          ],
          "name": "stdout"
        }
      ]
    },
    {
      "cell_type": "markdown",
      "metadata": {
        "id": "u7HeuGa4Kb8j",
        "colab_type": "text"
      },
      "source": [
        "**Step 5: Convert the data to Torch** \\\\\n",
        "The image data loaded is in numpy, which is not the right format for any pytorch functionality to work on it. Thus, we convert the data from numpy to torch"
      ]
    },
    {
      "cell_type": "code",
      "metadata": {
        "id": "cOeX23UgsTF2",
        "colab_type": "code",
        "outputId": "b291bbf1-6d16-43ca-b05e-fd24b3e232f1",
        "colab": {
          "base_uri": "https://localhost:8080/",
          "height": 50
        }
      },
      "source": [
        "#Converting numpy dataset to torch\n",
        "\n",
        "train_x = torch.from_numpy(np.array(train_x))\n",
        "test_x = torch.from_numpy(np.array(test_x))\n",
        "train_y = torch.from_numpy(np.array(train_y))\n",
        "test_y = torch.from_numpy(np.array(test_y))\n",
        "\n",
        "#print(train_x)\n",
        "print (\"Input train shape: \" + str(train_x.size()))\n",
        "print (\"Output train shape: \" + str(train_y.size()))"
      ],
      "execution_count": 0,
      "outputs": [
        {
          "output_type": "stream",
          "text": [
            "Input train shape: torch.Size([12288, 209])\n",
            "Output train shape: torch.Size([1, 209])\n"
          ],
          "name": "stdout"
        }
      ]
    },
    {
      "cell_type": "markdown",
      "metadata": {
        "id": "aW0LYn8SKvVm",
        "colab_type": "text"
      },
      "source": [
        "**Step 6 : Initialize Model and parameters** \\\\\n",
        "In this step, we initialize all the hyperparameters and parameters required to execute our model"
      ]
    },
    {
      "cell_type": "code",
      "metadata": {
        "id": "RiYhIJhq1jjY",
        "colab_type": "code",
        "outputId": "f940f493-e78e-4639-82ef-492bfcdde35c",
        "colab": {
          "base_uri": "https://localhost:8080/",
          "height": 34
        }
      },
      "source": [
        "'''\n",
        "Initialization of model parameters and hyper-parameters\n",
        "'''\n",
        "n_x = train_x.shape[0]     # num_px * num_px * 3\n",
        "n_h = 7\n",
        "n_y = 1\n",
        "learning_rate = 0.005\n",
        "momentum = 0.9\n",
        "weight_decay = 0.01\n",
        "epochs = 8000\n",
        "\n",
        "print('Model parameters are: input size {}, neurons {}, output {}'.format(n_x,n_h,n_y))"
      ],
      "execution_count": 0,
      "outputs": [
        {
          "output_type": "stream",
          "text": [
            "Model parameters are: input size 12288, neurons 7, output 1\n"
          ],
          "name": "stdout"
        }
      ]
    },
    {
      "cell_type": "code",
      "metadata": {
        "id": "nj1My0gA2FDe",
        "colab_type": "code",
        "outputId": "08fdea68-53af-4a12-9f27-d2022ceaa11b",
        "colab": {
          "base_uri": "https://localhost:8080/",
          "height": 84
        }
      },
      "source": [
        "# Create a neural network model\n",
        "\n",
        "nn_model = NeuralNet(n_x,n_h,n_y)\n",
        "loss_func = nn.BCELoss() #Defining the loss function: Cross Entropy Loss\n",
        "optim = torch.optim.SGD(nn_model.parameters(), lr=learning_rate, momentum=momentum,weight_decay = weight_decay) #Create optimizer based on 'SGD'\n",
        "\n",
        "print('Neural Net Structure: '+str(nn_model))\n"
      ],
      "execution_count": 0,
      "outputs": [
        {
          "output_type": "stream",
          "text": [
            "Neural Net Structure: NeuralNet(\n",
            "  (fc1): Linear(in_features=12288, out_features=7, bias=True)\n",
            "  (fc2): Linear(in_features=7, out_features=1, bias=True)\n",
            ")\n"
          ],
          "name": "stdout"
        }
      ]
    },
    {
      "cell_type": "markdown",
      "metadata": {
        "id": "2-GtQCkNLHl3",
        "colab_type": "text"
      },
      "source": [
        "**Step 7: Train the data** \\\\\n",
        "For given hyperparameter and model parameters, compute the loss after training the data"
      ]
    },
    {
      "cell_type": "code",
      "metadata": {
        "id": "XW_zDVNl7R0Y",
        "colab_type": "code",
        "outputId": "4a7e60a5-2207-4af4-c03a-99aae6fc4bb6",
        "colab": {
          "base_uri": "https://localhost:8080/",
          "height": 1000
        }
      },
      "source": [
        "#Train data\n",
        "X_img = train_x.T\n",
        "Y_img = train_y.T\n",
        "\n",
        "nn_model.train()\n",
        "\n",
        "training_losses = []\n",
        "for epoch in range(0,epochs):\n",
        "  model_output = nn_model(X_img.float())\n",
        "  loss = loss_func(model_output,Y_img.float())\n",
        "  training_losses.append(loss)\n",
        "\n",
        "  optim.zero_grad()\n",
        "  loss.backward()\n",
        "  optim.step()\n",
        "  if epoch%100==0:\n",
        "    print(\"Epoch: {}, Training Loss: {}\".format(epoch,loss.item()))\n",
        "\n",
        "print(\"Training Loss: \"+str(training_losses[-1].float()))\n",
        "\n",
        "plt.plot(np.squeeze(training_losses))\n",
        "plt.ylabel('loss')\n",
        "plt.xlabel('iterations (per tens)')\n",
        "plt.title(\"Learning rate =\" + str(learning_rate))\n",
        "plt.show()"
      ],
      "execution_count": 0,
      "outputs": [
        {
          "output_type": "stream",
          "text": [
            "Epoch: 0, Training Loss: 0.7811467051506042\n",
            "Epoch: 100, Training Loss: 0.3929159343242645\n",
            "Epoch: 200, Training Loss: 0.23553112149238586\n",
            "Epoch: 300, Training Loss: 0.16867490112781525\n",
            "Epoch: 400, Training Loss: 0.1295095682144165\n",
            "Epoch: 500, Training Loss: 0.09271581470966339\n",
            "Epoch: 600, Training Loss: 0.07817304879426956\n",
            "Epoch: 700, Training Loss: 0.06672204285860062\n",
            "Epoch: 800, Training Loss: 0.05988045781850815\n",
            "Epoch: 900, Training Loss: 0.05555910989642143\n",
            "Epoch: 1000, Training Loss: 0.0544155053794384\n",
            "Epoch: 1100, Training Loss: 0.05406450107693672\n",
            "Epoch: 1200, Training Loss: 0.048260051757097244\n",
            "Epoch: 1300, Training Loss: 0.04715915769338608\n",
            "Epoch: 1400, Training Loss: 0.04401319846510887\n",
            "Epoch: 1500, Training Loss: 0.04240509495139122\n",
            "Epoch: 1600, Training Loss: 0.042705632746219635\n",
            "Epoch: 1700, Training Loss: 0.04153025150299072\n",
            "Epoch: 1800, Training Loss: 0.041508905589580536\n",
            "Epoch: 1900, Training Loss: 0.0424659363925457\n",
            "Epoch: 2000, Training Loss: 0.04019353538751602\n",
            "Epoch: 2100, Training Loss: 0.03930727392435074\n",
            "Epoch: 2200, Training Loss: 0.04104971885681152\n",
            "Epoch: 2300, Training Loss: 0.038878921419382095\n",
            "Epoch: 2400, Training Loss: 0.039575349539518356\n",
            "Epoch: 2500, Training Loss: 0.0406501479446888\n",
            "Epoch: 2600, Training Loss: 0.04060240462422371\n",
            "Epoch: 2700, Training Loss: 0.039076726883649826\n",
            "Epoch: 2800, Training Loss: 0.038391221314668655\n",
            "Epoch: 2900, Training Loss: 0.03935537859797478\n",
            "Epoch: 3000, Training Loss: 0.03995751589536667\n",
            "Epoch: 3100, Training Loss: 0.03927788510918617\n",
            "Epoch: 3200, Training Loss: 0.038722485303878784\n",
            "Epoch: 3300, Training Loss: 0.039212148636579514\n",
            "Epoch: 3400, Training Loss: 0.03795691952109337\n",
            "Epoch: 3500, Training Loss: 0.03801382705569267\n",
            "Epoch: 3600, Training Loss: 0.0378992073237896\n",
            "Epoch: 3700, Training Loss: 0.038262464106082916\n",
            "Epoch: 3800, Training Loss: 0.038162536919116974\n",
            "Epoch: 3900, Training Loss: 0.037991177290678024\n",
            "Epoch: 4000, Training Loss: 0.038058146834373474\n",
            "Epoch: 4100, Training Loss: 0.038762420415878296\n",
            "Epoch: 4200, Training Loss: 0.03865668550133705\n",
            "Epoch: 4300, Training Loss: 0.03837358579039574\n",
            "Epoch: 4400, Training Loss: 0.03798464313149452\n",
            "Epoch: 4500, Training Loss: 0.03816062584519386\n",
            "Epoch: 4600, Training Loss: 0.04104813188314438\n",
            "Epoch: 4700, Training Loss: 0.03844376280903816\n",
            "Epoch: 4800, Training Loss: 0.0385349802672863\n",
            "Epoch: 4900, Training Loss: 0.03821055218577385\n",
            "Epoch: 5000, Training Loss: 0.03801163285970688\n",
            "Epoch: 5100, Training Loss: 0.03851347044110298\n",
            "Epoch: 5200, Training Loss: 0.038096051663160324\n",
            "Epoch: 5300, Training Loss: 0.038620851933956146\n",
            "Epoch: 5400, Training Loss: 0.038583654910326004\n",
            "Epoch: 5500, Training Loss: 0.038552794605493546\n",
            "Epoch: 5600, Training Loss: 0.03813336044549942\n",
            "Epoch: 5700, Training Loss: 0.03946699947118759\n",
            "Epoch: 5800, Training Loss: 0.0388682596385479\n",
            "Epoch: 5900, Training Loss: 0.038310687988996506\n",
            "Epoch: 6000, Training Loss: 0.039663393050432205\n",
            "Epoch: 6100, Training Loss: 0.03778379410505295\n",
            "Epoch: 6200, Training Loss: 0.03877660632133484\n",
            "Epoch: 6300, Training Loss: 0.03910315781831741\n",
            "Epoch: 6400, Training Loss: 0.038511455059051514\n",
            "Epoch: 6500, Training Loss: 0.038071952760219574\n",
            "Epoch: 6600, Training Loss: 0.03933315351605415\n",
            "Epoch: 6700, Training Loss: 0.03888550028204918\n",
            "Epoch: 6800, Training Loss: 0.037757810205221176\n",
            "Epoch: 6900, Training Loss: 0.03856624290347099\n",
            "Epoch: 7000, Training Loss: 0.040214911103248596\n",
            "Epoch: 7100, Training Loss: 0.037951577454805374\n",
            "Epoch: 7200, Training Loss: 0.04082564264535904\n",
            "Epoch: 7300, Training Loss: 0.03771837800741196\n",
            "Epoch: 7400, Training Loss: 0.04007590934634209\n",
            "Epoch: 7500, Training Loss: 0.0413065142929554\n",
            "Epoch: 7600, Training Loss: 0.03903130814433098\n",
            "Epoch: 7700, Training Loss: 0.03980991989374161\n",
            "Epoch: 7800, Training Loss: 0.039188284426927567\n",
            "Epoch: 7900, Training Loss: 0.03942583128809929\n",
            "Training Loss: tensor(0.0404, grad_fn=<BinaryCrossEntropyBackward>)\n"
          ],
          "name": "stdout"
        },
        {
          "output_type": "display_data",
          "data": {
            "image/png": "[encoded data removed]",
            "text/plain": [
              "<Figure size 360x288 with 1 Axes>"
            ]
          },
          "metadata": {
            "tags": []
          }
        }
      ]
    },
    {
      "cell_type": "markdown",
      "metadata": {
        "id": "LJGqBCsaLUY0",
        "colab_type": "text"
      },
      "source": [
        "**Step 8: Test the data** \\\\ \n",
        "Test the data and accuracy"
      ]
    },
    {
      "cell_type": "code",
      "metadata": {
        "id": "MIe3wEIv2bRS",
        "colab_type": "code",
        "outputId": "876bc12c-cb64-4209-c6fe-3d5353877b7e",
        "colab": {
          "base_uri": "https://localhost:8080/",
          "height": 34
        }
      },
      "source": [
        "test_in_img = test_x.T\n",
        "test_out_img = test_y.T\n",
        "epoch = 5000\n",
        "nn_model.eval()\n",
        "test_loss = []\n",
        "\n",
        "test_predict = nn_model(test_in_img.float())\n",
        "loss = loss_func(test_predict,test_out_img.float())\n",
        "test_pred = test_predict.detach().numpy()\n",
        "test_output = test_out_img.detach().numpy()\n",
        "test_pred[test_pred > 0.5] = 1\n",
        "test_pred[test_pred < 0.5] = 0\n",
        "# tense_sum = 0 \n",
        "# for i in range(0,len(test_predict)):\n",
        "#   if test_predict[i] > 0.5:\n",
        "#     test_predict[i] = 1\n",
        "#   else:\n",
        "#     test_predict[i] = 0\n",
        "\n",
        "#   if test_predict[i] == test_out_img[i]:\n",
        "#     tense_sum+=1    \n",
        "\n",
        "accuracy = np.sum((test_pred==test_output)/test_in_img.shape[0])\n",
        "\n",
        "print(\"Accuracy: \"+str(accuracy))\n",
        "\n",
        "\n"
      ],
      "execution_count": 0,
      "outputs": [
        {
          "output_type": "stream",
          "text": [
            "Accuracy: 0.6000000000000001\n"
          ],
          "name": "stdout"
        }
      ]
    },
    {
      "cell_type": "markdown",
      "metadata": {
        "id": "t52JZ8Nmyr6h",
        "colab_type": "text"
      },
      "source": [
        "\n",
        "\n",
        "---\n",
        "\n",
        "\n",
        "**Experimentation:** \\\\\n",
        "\n",
        "\n",
        "* Learning Rate = 0.05, Momentum = 0, Epochs = 5000, Weight Decay = 0 Accuracy = 0.72\n",
        "* Learning Rate = 0.05, Momentum = 0.01, Epochs = 5000, Accuracy, Weight Decay = 0 = 0.68\n",
        "* Learning Rate = 0.001, Momentum = 0.05, Epochs = 5000, Accuracy, Weight Decay =0 = 0.38\n",
        "* Learning Rate = 0.001, Momentum = 0.01, Epochs = 5000, Weight Decay = 0 Accuracy = 0.7\n",
        "* Learning Rate = 0.01, Momentum = 0.5, Epochs = 5000, Weight Decay = 0 Accuracy = 0.72\n",
        "* Learning Rate = 0.01, Momentum = 0.2, Epochs = 5000, Weight Decay = 0.2. Accuracy = 0.52\n",
        "* Learning Rate = 0.01, Momentum = 0.5, Epochs = 5000, Weight Decay = 0.5, Accuracy = 0.7\n",
        "* Learning Rate = 0.01, Momentum = 0.9 , Epochs = 5000, Weight Decay = 0.3 , Accuracy = 0.68\n",
        "* Learning Rate = 0.01, Momentum = 0.9, Epochs = 5000, Weight Decay = 0.1 Accuracy = 0.46\n",
        "* Learning Rate = 0.05, Momentum = 0.9, Epochs = 5000, Weight Decay = 0.2, Accuracy = 0.34\n",
        "* Learning Rate = 0.05, Momentum = 0.2, Epochs = 5000, Weight Decay = 0.2, Accuracy = 0.4\n",
        "* Learning Rate = 0.01, Momentum = 0.9, Weight Decay = 0.5 Epochs = 5000, Accuracy = 0.48\n",
        "* Learning Rate = 0.005, Momentum = 0.9, Weight Decay = 0.1, Epochs = 5000, Accuracy = 0.7\n",
        "* Learning Rate = 0.005, Momentum = 0.9, Weight Decay = 0.01, Epochs = 5000, Accuracy = 0.72\n",
        "* Learning Rate = 0.001, Momentum = 0.9, Weight Decay = 0.001, Epochs = 8000, Accuracy = 0.68\n",
        "* Learning Rate = 0.005, Momentum = 0.9, Weight Decay = 0.001, Epochs = 8000, Accuracy = 0.6\n",
        "\n",
        "---\n",
        "The maximum accuracy obtained was 0.72 using Stochastic Gradient Descent. ADAM is a better Gradient Descent method to optimize the result. \\\\\n",
        "The following parameters deemed good accuracy: \\\\\n",
        "LR : 0.005, Momentum = 0.9, Weight Decay = 0.01, Epochs = 5000 \\\\\n",
        "LR : 0.05, Momentum = 0, Weight Decay = 0, Epochs = 5000 \\\\\n",
        "LR : 0.01, Momentum = 0.5, Weight Decay = 0 , Epochs = 5000\n",
        "\n",
        "\n",
        "\n"
      ]
    },
    {
      "cell_type": "markdown",
      "metadata": {
        "id": "7fm20kcAYzTU",
        "colab_type": "text"
      },
      "source": [
        "****DATASET 2 : Movie Reviews****"
      ]
    },
    {
      "cell_type": "code",
      "metadata": {
        "id": "urjF-uhK3y5N",
        "colab_type": "code",
        "colab": {}
      },
      "source": [
        "def load_data(train_file, test_file):\n",
        "    train_dataset = []\n",
        "    test_dataset = []\n",
        "    \n",
        "    # Read the training dataset file line by line\n",
        "    for line in open(train_file, 'r'):\n",
        "        train_dataset.append(line.strip())\n",
        "        \n",
        "    for line in open(test_file, 'r'):\n",
        "        test_dataset.append(line.strip())\n",
        "    return train_dataset, test_dataset  "
      ],
      "execution_count": 0,
      "outputs": []
    },
    {
      "cell_type": "code",
      "metadata": {
        "id": "VmaOnufgFXc4",
        "colab_type": "code",
        "colab": {}
      },
      "source": [
        "train_file = \"train_imdb.txt\"\n",
        "test_file = \"test_imdb.txt\"\n",
        "train_dataset, test_dataset = load_data(train_file, test_file)"
      ],
      "execution_count": 0,
      "outputs": []
    },
    {
      "cell_type": "code",
      "metadata": {
        "id": "mb1VBMk8ZGsj",
        "colab_type": "code",
        "outputId": "55eceaab-39a8-49bd-ee49-b1782dfd1460",
        "colab": {
          "base_uri": "https://localhost:8080/",
          "height": 70
        }
      },
      "source": [
        "# This is just how the data is organized. The first 50% data is positive and the rest 50% is negative for both train and test splits.\n",
        "y = [1 if i < len(train_dataset)*0.5 else 0 for i in range(len(train_dataset))]\n",
        "# Example of a review\n",
        "index = 10\n",
        "print(train_dataset[index])\n",
        "print (\"y = \" + str(y[index]))"
      ],
      "execution_count": 0,
      "outputs": [
        {
          "output_type": "stream",
          "text": [
            "I liked the film. Some of the action scenes were very interesting, tense and well done. I especially liked the opening scene which had a semi truck in it. A very tense action scene that seemed well done.<br /><br />Some of the transitional scenes were filmed in interesting ways such as time lapse photography, unusual colors, or interesting angles. Also the film is funny is several parts. I also liked how the evil guy was portrayed too. I'd give the film an 8 out of 10.\n",
            "y = 1\n"
          ],
          "name": "stdout"
        }
      ]
    },
    {
      "cell_type": "code",
      "metadata": {
        "id": "pcn3wvb6ZMLe",
        "colab_type": "code",
        "outputId": "3b256db2-0368-43e4-faff-471b4f5214ea",
        "colab": {
          "base_uri": "https://localhost:8080/",
          "height": 50
        }
      },
      "source": [
        "# Explore your dataset \n",
        "m_train = len(train_dataset)\n",
        "m_test = len(test_dataset)\n",
        "\n",
        "print (\"Number of training examples: \" + str(m_train))\n",
        "print (\"Number of testing examples: \" + str(m_test))"
      ],
      "execution_count": 0,
      "outputs": [
        {
          "output_type": "stream",
          "text": [
            "Number of training examples: 1001\n",
            "Number of testing examples: 201\n"
          ],
          "name": "stdout"
        }
      ]
    },
    {
      "cell_type": "code",
      "metadata": {
        "id": "wuFKG_0MZPtH",
        "colab_type": "code",
        "colab": {}
      },
      "source": [
        "REPLACE_NO_SPACE = re.compile(\"(\\.)|(\\;)|(\\:)|(\\!)|(\\')|(\\?)|(\\,)|(\\\")|(\\()|(\\))|(\\[)|(\\])|(\\d+)\")\n",
        "REPLACE_WITH_SPACE = re.compile(\"(<br\\s*/><br\\s*/>)|(\\-)|(\\/)\")\n",
        "NO_SPACE = \"\"\n",
        "SPACE = \" \"\n",
        "\n",
        "def preprocess_reviews(reviews):\n",
        "    \n",
        "    reviews = [REPLACE_NO_SPACE.sub(NO_SPACE, line.lower()) for line in reviews]\n",
        "    reviews = [REPLACE_WITH_SPACE.sub(SPACE, line) for line in reviews]\n",
        "    \n",
        "    return reviews\n",
        "\n",
        "train_dataset_clean = preprocess_reviews(train_dataset)\n",
        "test_dataset_clean = preprocess_reviews(test_dataset)"
      ],
      "execution_count": 0,
      "outputs": []
    },
    {
      "cell_type": "code",
      "metadata": {
        "id": "YIJ0qX-hZT6m",
        "colab_type": "code",
        "outputId": "3a377c9b-b271-4dd2-8039-9fcec65c1af0",
        "colab": {
          "base_uri": "https://localhost:8080/",
          "height": 70
        }
      },
      "source": [
        "# Example of a clean review\n",
        "index = 10\n",
        "print(train_dataset_clean[index])\n",
        "print (\"y = \" + str(y[index]))"
      ],
      "execution_count": 0,
      "outputs": [
        {
          "output_type": "stream",
          "text": [
            "i liked the film some of the action scenes were very interesting tense and well done i especially liked the opening scene which had a semi truck in it a very tense action scene that seemed well done some of the transitional scenes were filmed in interesting ways such as time lapse photography unusual colors or interesting angles also the film is funny is several parts i also liked how the evil guy was portrayed too id give the film an  out of \n",
            "y = 1\n"
          ],
          "name": "stdout"
        }
      ]
    },
    {
      "cell_type": "code",
      "metadata": {
        "id": "tUJxpAehZWWa",
        "colab_type": "code",
        "colab": {}
      },
      "source": [
        "cv = CountVectorizer(binary=True, stop_words=\"english\", max_features=2000)\n",
        "cv.fit(train_dataset_clean)\n",
        "X = cv.transform(train_dataset_clean)\n",
        "X_test = cv.transform(test_dataset_clean)\n",
        "X = np.array(X.todense()).astype(float)\n",
        "X_test = np.array(X_test.todense()).astype(float)\n",
        "y = np.array(y)"
      ],
      "execution_count": 0,
      "outputs": []
    },
    {
      "cell_type": "code",
      "metadata": {
        "id": "mFTXuEEQZbL-",
        "colab_type": "code",
        "outputId": "f1149fd6-298a-4698-f8c0-cf96bd6a013e",
        "colab": {
          "base_uri": "https://localhost:8080/",
          "height": 50
        }
      },
      "source": [
        "X_train, X_val, y_train, y_val = train_test_split(X, y, train_size = 0.80)\n",
        "X_train = X_train.T\n",
        "X_val = X_val.T\n",
        "y_train = y_train.reshape(1,-1)\n",
        "y_val = y_val.reshape(1,-1)\n",
        "\n",
        "train_in = torch.from_numpy(X_train).float()\n",
        "train_out = torch.from_numpy(y_train).float()\n",
        "test_in = torch.from_numpy(X_val).float()\n",
        "test_out = torch.from_numpy(y_val).float()\n",
        "\n",
        "print(\"Training Size : Input  - {}, Output  - {}\".format(str(train_in.size()),str(train_out.size())))\n",
        "print(\"Test Size : Input  - {}, Output  - {}\".format(str(test_in.size()),str(test_out.size())))"
      ],
      "execution_count": 0,
      "outputs": [
        {
          "output_type": "stream",
          "text": [
            "Training Size : Input  - torch.Size([2000, 800]), Output  - torch.Size([1, 800])\n",
            "Test Size : Input  - torch.Size([2000, 201]), Output  - torch.Size([1, 201])\n"
          ],
          "name": "stdout"
        }
      ]
    },
    {
      "cell_type": "code",
      "metadata": {
        "id": "x9-yVbHScoT4",
        "colab_type": "code",
        "colab": {}
      },
      "source": [
        "n_x = train_in.shape[0]     # num_px * num_px * 3\n",
        "n_h = 200\n",
        "n_y = 1\n",
        "learning_rate = 0.05\n",
        "momentum = 0.2\n",
        "weight_decay = 0.2\n",
        "epochs = 5000"
      ],
      "execution_count": 0,
      "outputs": []
    },
    {
      "cell_type": "code",
      "metadata": {
        "id": "JGsKqBEqbRb9",
        "colab_type": "code",
        "outputId": "e9813b40-6ec4-4738-b08f-3d1a9177bc98",
        "colab": {
          "base_uri": "https://localhost:8080/",
          "height": 84
        }
      },
      "source": [
        "nn_model = NeuralNet(n_x,n_h,n_y)\n",
        "loss_func = nn.BCELoss() #Defining the loss function: Cross Entropy Loss\n",
        "optim = torch.optim.SGD(nn_model.parameters(), lr=learning_rate, momentum = momentum, weight_decay = weight_decay) #Create optimizer based on 'SGD'\n",
        "\n",
        "print('Neural Net Structure: '+str(nn_model))"
      ],
      "execution_count": 0,
      "outputs": [
        {
          "output_type": "stream",
          "text": [
            "Neural Net Structure: NeuralNet(\n",
            "  (fc1): Linear(in_features=2000, out_features=200, bias=True)\n",
            "  (fc2): Linear(in_features=200, out_features=1, bias=True)\n",
            ")\n"
          ],
          "name": "stdout"
        }
      ]
    },
    {
      "cell_type": "code",
      "metadata": {
        "id": "3vW5_wuHc0o-",
        "colab_type": "code",
        "outputId": "3035ad0c-3e6b-44cb-e60a-023e4d21b8c7",
        "colab": {
          "base_uri": "https://localhost:8080/",
          "height": 1000
        }
      },
      "source": [
        "X = train_in.T\n",
        "Y = train_out.T\n",
        "\n",
        "nn_model.train()\n",
        "training_losses = []\n",
        "for epoch in range(0,epochs):\n",
        "  model_output = nn_model(X.float())\n",
        "  loss = loss_func(model_output,Y.float())\n",
        "  training_losses.append(loss)\n",
        "\n",
        "  optim.zero_grad()\n",
        "  loss.backward()\n",
        "  optim.step()\n",
        "  if epoch%100==0:\n",
        "    print(\"Epoch: {}, Training Loss: {}\".format(epoch,loss.item()))\n",
        "\n",
        "print(\"Training Loss: \"+str(training_losses[-1].float()))\n",
        "\n",
        "plt.plot(np.squeeze(training_losses))\n",
        "plt.ylabel('loss')\n",
        "plt.xlabel('iterations (per tens)')\n",
        "plt.title(\"Learning rate =\" + str(learning_rate))\n",
        "plt.show()"
      ],
      "execution_count": 0,
      "outputs": [
        {
          "output_type": "stream",
          "text": [
            "Epoch: 0, Training Loss: 0.6935371160507202\n",
            "Epoch: 100, Training Loss: 0.6837700605392456\n",
            "Epoch: 200, Training Loss: 0.6800565123558044\n",
            "Epoch: 300, Training Loss: 0.675255298614502\n",
            "Epoch: 400, Training Loss: 0.6695536971092224\n",
            "Epoch: 500, Training Loss: 0.6629993319511414\n",
            "Epoch: 600, Training Loss: 0.6559173464775085\n",
            "Epoch: 700, Training Loss: 0.64876389503479\n",
            "Epoch: 800, Training Loss: 0.6420035362243652\n",
            "Epoch: 900, Training Loss: 0.6359934210777283\n",
            "Epoch: 1000, Training Loss: 0.6309329867362976\n",
            "Epoch: 1100, Training Loss: 0.6268594264984131\n",
            "Epoch: 1200, Training Loss: 0.6236953735351562\n",
            "Epoch: 1300, Training Loss: 0.6213051080703735\n",
            "Epoch: 1400, Training Loss: 0.6195370554924011\n",
            "Epoch: 1500, Training Loss: 0.6182478666305542\n",
            "Epoch: 1600, Training Loss: 0.6173185110092163\n",
            "Epoch: 1700, Training Loss: 0.6166536211967468\n",
            "Epoch: 1800, Training Loss: 0.616180419921875\n",
            "Epoch: 1900, Training Loss: 0.6158449649810791\n",
            "Epoch: 2000, Training Loss: 0.6156084537506104\n",
            "Epoch: 2100, Training Loss: 0.6154404282569885\n",
            "Epoch: 2200, Training Loss: 0.6153220534324646\n",
            "Epoch: 2300, Training Loss: 0.6152384281158447\n",
            "Epoch: 2400, Training Loss: 0.6151801943778992\n",
            "Epoch: 2500, Training Loss: 0.6151383519172668\n",
            "Epoch: 2600, Training Loss: 0.6151091456413269\n",
            "Epoch: 2700, Training Loss: 0.6150882244110107\n",
            "Epoch: 2800, Training Loss: 0.615074098110199\n",
            "Epoch: 2900, Training Loss: 0.6150630712509155\n",
            "Epoch: 3000, Training Loss: 0.6150559782981873\n",
            "Epoch: 3100, Training Loss: 0.6150507926940918\n",
            "Epoch: 3200, Training Loss: 0.615047037601471\n",
            "Epoch: 3300, Training Loss: 0.6150450706481934\n",
            "Epoch: 3400, Training Loss: 0.6150426268577576\n",
            "Epoch: 3500, Training Loss: 0.6150413155555725\n",
            "Epoch: 3600, Training Loss: 0.6150403022766113\n",
            "Epoch: 3700, Training Loss: 0.6150396466255188\n",
            "Epoch: 3800, Training Loss: 0.6150393486022949\n",
            "Epoch: 3900, Training Loss: 0.6150386333465576\n",
            "Epoch: 4000, Training Loss: 0.6150386333465576\n",
            "Epoch: 4100, Training Loss: 0.615037739276886\n",
            "Epoch: 4200, Training Loss: 0.6150373816490173\n",
            "Epoch: 4300, Training Loss: 0.6150375604629517\n",
            "Epoch: 4400, Training Loss: 0.6150376796722412\n",
            "Epoch: 4500, Training Loss: 0.6150379180908203\n",
            "Epoch: 4600, Training Loss: 0.615037739276886\n",
            "Epoch: 4700, Training Loss: 0.6150373220443726\n",
            "Epoch: 4800, Training Loss: 0.6150379776954651\n",
            "Epoch: 4900, Training Loss: 0.6150380373001099\n",
            "Training Loss: tensor(0.6150, grad_fn=<BinaryCrossEntropyBackward>)\n"
          ],
          "name": "stdout"
        },
        {
          "output_type": "display_data",
          "data": {
            "image/png": "[encoded data removed]",
            "text/plain": [
              "<Figure size 360x288 with 1 Axes>"
            ]
          },
          "metadata": {
            "tags": []
          }
        }
      ]
    },
    {
      "cell_type": "code",
      "metadata": {
        "id": "swO7SVdzdPde",
        "colab_type": "code",
        "outputId": "156946b9-755b-46d1-e6db-673ad55939d8",
        "colab": {
          "base_uri": "https://localhost:8080/",
          "height": 34
        }
      },
      "source": [
        "test_in_re = test_in.T\n",
        "test_out_re = test_out.T\n",
        "epoch = 5000\n",
        "nn_model.eval()\n",
        "test_loss = []\n",
        "\n",
        "# for epoch in range(0,epoch):\n",
        "#   with torch.no_grad():\n",
        "#     model_out = nn_model(test_in.float())\n",
        "#     loss = loss_func(model_out,test_out.float())\n",
        "#     test_loss.append(loss.item())\n",
        "\n",
        "test_predict_re = nn_model(test_in_re.float())\n",
        "loss = loss_func(test_predict_re,test_out_re.float())\n",
        "test_pred_re = test_predict_re.detach().numpy()\n",
        "test_output_re = test_out_re.detach().numpy()\n",
        "test_pred_re[test_pred_re > 0.5] = 1\n",
        "test_pred_re[test_pred_re < 0.5] = 0\n",
        "\n",
        "accuracy = np.sum((test_pred_re==test_output_re)/test_in_re.shape[0])\n",
        "\n",
        "print(\"Testing Accuracy: \"+str(accuracy))"
      ],
      "execution_count": 0,
      "outputs": [
        {
          "output_type": "stream",
          "text": [
            "Testing Accuracy: 0.8009950248756217\n"
          ],
          "name": "stdout"
        }
      ]
    },
    {
      "cell_type": "markdown",
      "metadata": {
        "id": "iXRO4EhRTpko",
        "colab_type": "text"
      },
      "source": [
        "**Experimentation:** \\\\\n",
        "\n",
        "\n",
        "* Learning Rate = 0.005, Momentum = 0, Epochs = 8000, Weight Decay = 0 Accuracy = 0.83\n",
        "* Learning Rate = 0.005, Momentum = 0.9, Epochs = 8000, Weight Decay = 0.01, Accuracy=  0.82\n",
        "* Learning Rate = 0.001, Momentum = 0.5, Epochs = 8000, Weight Decay =0.01, Accuracy= 0.8\n",
        "* Learning Rate = 0.001, Momentum = 0.9, Epochs = 5000, Weight Decay = 0.05 Accuracy = 0.82\n",
        "* Learning Rate = 0.001, Momentum = 0.9, Epochs = 5000, Weight Decay = 0.1 Accuracy = 0.82\n",
        "* Learning Rate = 0.01, Momentum = 0.2, Epochs = 5000, Weight Decay = 0.05. Accuracy = 0.82\n",
        "* Learning Rate = 0.01, Momentum = 0.5, Epochs = 5000, Weight Decay = 0.1, Accuracy = 0.8\n",
        "* Learning Rate = 0.01, Momentum = 0.9 , Epochs = 5000, Weight Decay = 0.5 , Accuracy = 0.68\n",
        "* Learning Rate = 0.01, Momentum = 0.9, Epochs = 5000, Weight Decay = 0.1 Accuracy = 0.47\n",
        "* Learning Rate = 0.05, Momentum = 0.9, Epochs = 5000, Weight Decay = 0.2, Accuracy = 0.8\n",
        "* Learning Rate = 0.05, Momentum = 0.2, Epochs = 5000, Weight Decay = 0.2, Accuracy = 0.8\n",
        "* Learning Rate = 0.005, Momentum = 0.9, Weight Decay = 0.05, Epochs = 5000, Accuracy = 0.825\n",
        "* Learning Rate = 0.005, Momentum = 0.9, Weight Decay = 0.1, Epochs = 5000, Accuracy = 0.80\n",
        "* Learning Rate = 0.001, Momentum = 0.9, Weight Decay = 0.01, Epochs = 5000, Accuracy = 0.825\n",
        "* Learning Rate = 0.005, Momentum = 0.9, Weight Decay = 0.01, Epochs = 5000, Accuracy = 0.825\n",
        "\n",
        "---\n",
        "While some were overfitting, some underfitting. The optimum result were seen when, \\\\\n",
        "LR = 0.001, Momentum = 0.9, Weight Decay = 0.01, Epochs = 5000 \\\\\n",
        "LR = 0.005, Momentum = 0.9, Weight Decay = 0.01, Epochs = 5000 \\\\\n",
        "LR = 0.005, Momentum = 0, Weight Decay = 0, Epochs = 8000\n"
      ]
    },
    {
      "cell_type": "code",
      "metadata": {
        "id": "GuHptMB4eeiG",
        "colab_type": "code",
        "colab": {}
      },
      "source": [
        ""
      ],
      "execution_count": 0,
      "outputs": []
    }
  ]
}